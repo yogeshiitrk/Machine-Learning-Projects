{
 "cells": [
  {
   "cell_type": "markdown",
   "metadata": {},
   "source": [
    "## POS tagging using modified Viterbi"
   ]
  },
  {
   "cell_type": "markdown",
   "metadata": {},
   "source": [
    "### Data Preparation"
   ]
  },
  {
   "cell_type": "code",
   "execution_count": 1,
   "metadata": {},
   "outputs": [],
   "source": [
    "#Importing libraries\n",
    "import nltk\n",
    "import nltk, re, pprint\n",
    "import numpy as np\n",
    "import pandas as pd\n",
    "import requests\n",
    "import matplotlib.pyplot as plt\n",
    "import seaborn as sns\n",
    "import pprint, time\n",
    "import random\n",
    "from sklearn.model_selection import train_test_split\n",
    "from nltk.tokenize import word_tokenize"
   ]
  },
  {
   "cell_type": "code",
   "execution_count": 2,
   "metadata": {},
   "outputs": [],
   "source": [
    "# reading the Treebank tagged sentences with Universal tagset\n",
    "nltk_data = list(nltk.corpus.treebank.tagged_sents(tagset='universal'))"
   ]
  },
  {
   "cell_type": "code",
   "execution_count": 3,
   "metadata": {},
   "outputs": [
    {
     "name": "stdout",
     "output_type": "stream",
     "text": [
      "[[('Pierre', 'NOUN'), ('Vinken', 'NOUN'), (',', '.'), ('61', 'NUM'), ('years', 'NOUN'), ('old', 'ADJ'), (',', '.'), ('will', 'VERB'), ('join', 'VERB'), ('the', 'DET'), ('board', 'NOUN'), ('as', 'ADP'), ('a', 'DET'), ('nonexecutive', 'ADJ'), ('director', 'NOUN'), ('Nov.', 'NOUN'), ('29', 'NUM'), ('.', '.')], [('Mr.', 'NOUN'), ('Vinken', 'NOUN'), ('is', 'VERB'), ('chairman', 'NOUN'), ('of', 'ADP'), ('Elsevier', 'NOUN'), ('N.V.', 'NOUN'), (',', '.'), ('the', 'DET'), ('Dutch', 'NOUN'), ('publishing', 'VERB'), ('group', 'NOUN'), ('.', '.')], [('Rudolph', 'NOUN'), ('Agnew', 'NOUN'), (',', '.'), ('55', 'NUM'), ('years', 'NOUN'), ('old', 'ADJ'), ('and', 'CONJ'), ('former', 'ADJ'), ('chairman', 'NOUN'), ('of', 'ADP'), ('Consolidated', 'NOUN'), ('Gold', 'NOUN'), ('Fields', 'NOUN'), ('PLC', 'NOUN'), (',', '.'), ('was', 'VERB'), ('named', 'VERB'), ('*-1', 'X'), ('a', 'DET'), ('nonexecutive', 'ADJ'), ('director', 'NOUN'), ('of', 'ADP'), ('this', 'DET'), ('British', 'ADJ'), ('industrial', 'ADJ'), ('conglomerate', 'NOUN'), ('.', '.')], [('A', 'DET'), ('form', 'NOUN'), ('of', 'ADP'), ('asbestos', 'NOUN'), ('once', 'ADV'), ('used', 'VERB'), ('*', 'X'), ('*', 'X'), ('to', 'PRT'), ('make', 'VERB'), ('Kent', 'NOUN'), ('cigarette', 'NOUN'), ('filters', 'NOUN'), ('has', 'VERB'), ('caused', 'VERB'), ('a', 'DET'), ('high', 'ADJ'), ('percentage', 'NOUN'), ('of', 'ADP'), ('cancer', 'NOUN'), ('deaths', 'NOUN'), ('among', 'ADP'), ('a', 'DET'), ('group', 'NOUN'), ('of', 'ADP'), ('workers', 'NOUN'), ('exposed', 'VERB'), ('*', 'X'), ('to', 'PRT'), ('it', 'PRON'), ('more', 'ADV'), ('than', 'ADP'), ('30', 'NUM'), ('years', 'NOUN'), ('ago', 'ADP'), (',', '.'), ('researchers', 'NOUN'), ('reported', 'VERB'), ('0', 'X'), ('*T*-1', 'X'), ('.', '.')], [('The', 'DET'), ('asbestos', 'NOUN'), ('fiber', 'NOUN'), (',', '.'), ('crocidolite', 'NOUN'), (',', '.'), ('is', 'VERB'), ('unusually', 'ADV'), ('resilient', 'ADJ'), ('once', 'ADP'), ('it', 'PRON'), ('enters', 'VERB'), ('the', 'DET'), ('lungs', 'NOUN'), (',', '.'), ('with', 'ADP'), ('even', 'ADV'), ('brief', 'ADJ'), ('exposures', 'NOUN'), ('to', 'PRT'), ('it', 'PRON'), ('causing', 'VERB'), ('symptoms', 'NOUN'), ('that', 'DET'), ('*T*-1', 'X'), ('show', 'VERB'), ('up', 'PRT'), ('decades', 'NOUN'), ('later', 'ADJ'), (',', '.'), ('researchers', 'NOUN'), ('said', 'VERB'), ('0', 'X'), ('*T*-2', 'X'), ('.', '.')], [('Lorillard', 'NOUN'), ('Inc.', 'NOUN'), (',', '.'), ('the', 'DET'), ('unit', 'NOUN'), ('of', 'ADP'), ('New', 'ADJ'), ('York-based', 'ADJ'), ('Loews', 'NOUN'), ('Corp.', 'NOUN'), ('that', 'DET'), ('*T*-2', 'X'), ('makes', 'VERB'), ('Kent', 'NOUN'), ('cigarettes', 'NOUN'), (',', '.'), ('stopped', 'VERB'), ('using', 'VERB'), ('crocidolite', 'NOUN'), ('in', 'ADP'), ('its', 'PRON'), ('Micronite', 'NOUN'), ('cigarette', 'NOUN'), ('filters', 'NOUN'), ('in', 'ADP'), ('1956', 'NUM'), ('.', '.')], [('Although', 'ADP'), ('preliminary', 'ADJ'), ('findings', 'NOUN'), ('were', 'VERB'), ('reported', 'VERB'), ('*-2', 'X'), ('more', 'ADV'), ('than', 'ADP'), ('a', 'DET'), ('year', 'NOUN'), ('ago', 'ADP'), (',', '.'), ('the', 'DET'), ('latest', 'ADJ'), ('results', 'NOUN'), ('appear', 'VERB'), ('in', 'ADP'), ('today', 'NOUN'), (\"'s\", 'PRT'), ('New', 'NOUN'), ('England', 'NOUN'), ('Journal', 'NOUN'), ('of', 'ADP'), ('Medicine', 'NOUN'), (',', '.'), ('a', 'DET'), ('forum', 'NOUN'), ('likely', 'ADJ'), ('*', 'X'), ('to', 'PRT'), ('bring', 'VERB'), ('new', 'ADJ'), ('attention', 'NOUN'), ('to', 'PRT'), ('the', 'DET'), ('problem', 'NOUN'), ('.', '.')], [('A', 'DET'), ('Lorillard', 'NOUN'), ('spokewoman', 'NOUN'), ('said', 'VERB'), (',', '.'), ('``', '.'), ('This', 'DET'), ('is', 'VERB'), ('an', 'DET'), ('old', 'ADJ'), ('story', 'NOUN'), ('.', '.')], [('We', 'PRON'), (\"'re\", 'VERB'), ('talking', 'VERB'), ('about', 'ADP'), ('years', 'NOUN'), ('ago', 'ADP'), ('before', 'ADP'), ('anyone', 'NOUN'), ('heard', 'VERB'), ('of', 'ADP'), ('asbestos', 'NOUN'), ('having', 'VERB'), ('any', 'DET'), ('questionable', 'ADJ'), ('properties', 'NOUN'), ('.', '.')], [('There', 'DET'), ('is', 'VERB'), ('no', 'DET'), ('asbestos', 'NOUN'), ('in', 'ADP'), ('our', 'PRON'), ('products', 'NOUN'), ('now', 'ADV'), ('.', '.'), (\"''\", '.')]]\n"
     ]
    }
   ],
   "source": [
    "# Check first few tagged sentences\n",
    "print(nltk_data[:10])"
   ]
  },
  {
   "cell_type": "markdown",
   "metadata": {},
   "source": [
    "As stated in problem, let's divide the Treebank dataset into train and validation sets in ratio of 95:5"
   ]
  },
  {
   "cell_type": "code",
   "execution_count": 4,
   "metadata": {},
   "outputs": [],
   "source": [
    "# Splitting into train and test dataset\n",
    "train_set, test_set = train_test_split(nltk_data, random_state = 1000, test_size=0.05)"
   ]
  },
  {
   "cell_type": "code",
   "execution_count": 5,
   "metadata": {},
   "outputs": [
    {
     "name": "stdout",
     "output_type": "stream",
     "text": [
      "3718\n",
      "196\n",
      "[[('She', 'PRON'), ('says', 'VERB'), ('0', 'X'), ('she', 'PRON'), ('offered', 'VERB'), ('Mrs.', 'NOUN'), ('Yeargin', 'NOUN'), ('a', 'DET'), ('quiet', 'ADJ'), ('resignation', 'NOUN'), ('and', 'CONJ'), ('thought', 'VERB'), ('0', 'X'), ('she', 'PRON'), ('could', 'VERB'), ('help', 'VERB'), ('*-1', 'X'), ('save', 'VERB'), ('her', 'PRON'), ('teaching', 'NOUN'), ('certificate', 'NOUN'), ('.', '.')], [('Program', 'NOUN'), ('trading', 'NOUN'), ('money', 'NOUN'), ('managers', 'NOUN'), ('have', 'VERB'), ('gained', 'VERB'), ('control', 'NOUN'), ('over', 'ADP'), ('a', 'DET'), ('big', 'ADJ'), ('chunk', 'NOUN'), ('of', 'ADP'), ('the', 'DET'), ('invested', 'VERB'), ('funds', 'NOUN'), ('in', 'ADP'), ('this', 'DET'), ('country', 'NOUN'), (',', '.'), ('and', 'CONJ'), ('the', 'DET'), ('pressures', 'NOUN'), ('*ICH*-2', 'X'), ('on', 'ADP'), ('such', 'ADJ'), ('money', 'NOUN'), ('managers', 'NOUN'), ('*', 'X'), ('to', 'PRT'), ('produce', 'VERB'), ('consistent', 'ADJ'), ('profits', 'NOUN'), ('has', 'VERB'), ('wedded', 'VERB'), ('them', 'PRON'), ('to', 'PRT'), ('the', 'DET'), ('ability', 'NOUN'), ('*', 'X'), ('to', 'PRT'), ('move', 'VERB'), ('rapidly', 'ADV'), ('in', 'ADP'), ('and', 'CONJ'), ('out', 'ADP'), ('the', 'DET'), ('market', 'NOUN'), ('that', 'ADP'), ('program', 'NOUN'), ('trading', 'NOUN'), ('gives', 'VERB'), ('them', 'PRON'), ('*T*-1', 'X'), ('.', '.')], [('The', 'DET'), ('two', 'NUM'), ('professors', 'NOUN'), ('represent', 'VERB'), ('different', 'ADJ'), ('ends', 'NOUN'), ('of', 'ADP'), ('the', 'DET'), ('political', 'ADJ'), ('spectrum', 'NOUN'), ('--', '.'), ('Mr.', 'NOUN'), ('Kurland', 'NOUN'), ('is', 'VERB'), ('a', 'DET'), ('conservative', 'ADJ'), ('and', 'CONJ'), ('Mr.', 'NOUN'), ('Tribe', 'NOUN'), ('is', 'VERB'), ('a', 'DET'), ('liberal', 'NOUN'), ('.', '.')], [('Some', 'DET'), ('of', 'ADP'), ('the', 'DET'), ('surge', 'NOUN'), ('in', 'ADP'), ('the', 'DET'), ('stock', 'NOUN'), (\"'s\", 'PRT'), ('price', 'NOUN'), ('appeared', 'VERB'), ('*-1', 'X'), ('to', 'PRT'), ('be', 'VERB'), ('linked', 'VERB'), ('*-39', 'X'), ('to', 'PRT'), ('revived', 'VERB'), ('takeover', 'NOUN'), ('speculation', 'NOUN'), (',', '.'), ('which', 'DET'), ('*T*-28', 'X'), ('has', 'VERB'), ('contributed', 'VERB'), ('to', 'PRT'), ('volatility', 'NOUN'), ('of', 'ADP'), ('Campbell', 'NOUN'), ('shares', 'NOUN'), ('in', 'ADP'), ('recent', 'ADJ'), ('months', 'NOUN'), ('.', '.')], [('A', 'DET'), ('spokesman', 'NOUN'), ('for', 'ADP'), ('the', 'DET'), ('IRS', 'NOUN'), ('confirmed', 'VERB'), ('that', 'ADP'), ('``', '.'), ('there', 'DET'), ('has', 'VERB'), ('been', 'VERB'), ('correspondence', 'NOUN'), ('mailed', 'VERB'), ('*', 'X'), ('about', 'ADP'), ('incomplete', 'ADJ'), ('8300s', 'NOUN'), (',', '.'), (\"''\", '.'), ('but', 'CONJ'), ('he', 'PRON'), ('declined', 'VERB'), ('*-1', 'X'), ('to', 'PRT'), ('say', 'VERB'), ('why', 'ADV'), ('the', 'DET'), ('letters', 'NOUN'), ('were', 'VERB'), ('sent', 'VERB'), ('*-2', 'X'), ('to', 'PRT'), ('lawyers', 'NOUN'), ('now', 'ADV'), ('.', '.')], [('The', 'DET'), ('new', 'ADJ'), ('plant', 'NOUN'), (',', '.'), ('located', 'VERB'), ('*', 'X'), ('in', 'ADP'), ('Chinchon', 'NOUN'), ('about', 'ADP'), ('60', 'NUM'), ('miles', 'NOUN'), ('from', 'ADP'), ('Seoul', 'NOUN'), (',', '.'), ('will', 'VERB'), ('help', 'VERB'), ('*-2', 'X'), ('meet', 'VERB'), ('increasing', 'VERB'), ('and', 'CONJ'), ('diversifying', 'VERB'), ('demand', 'NOUN'), ('for', 'ADP'), ('control', 'NOUN'), ('products', 'NOUN'), ('in', 'ADP'), ('South', 'NOUN'), ('Korea', 'NOUN'), (',', '.'), ('the', 'DET'), ('company', 'NOUN'), ('said', 'VERB'), ('0', 'X'), ('*T*-1', 'X'), ('.', '.')], [('The', 'DET'), ('rifles', 'NOUN'), ('were', 'VERB'), (\"n't\", 'ADV'), ('loaded', 'VERB'), ('*-1', 'X'), ('.', '.')], [('In', 'ADP'), ('national', 'ADJ'), ('over-the-counter', 'ADJ'), ('trading', 'NOUN'), ('yesterday', 'NOUN'), (',', '.'), ('POP', 'NOUN'), ('plunged', 'VERB'), ('$', '.'), ('4', 'NUM'), ('*U*', 'X'), ('to', 'PRT'), ('$', '.'), ('14.75', 'NUM'), ('*U*', 'X'), ('.', '.')], [('*-2', 'X'), ('Given', 'VERB'), ('*-3', 'X'), ('that', 'DET'), ('choice', 'NOUN'), (',', '.'), ('associates', 'NOUN'), ('of', 'ADP'), ('Mr.', 'NOUN'), ('Hahn', 'NOUN'), ('and', 'CONJ'), ('industry', 'NOUN'), ('observers', 'NOUN'), ('say', 'VERB'), ('0', 'X'), ('the', 'DET'), ('former', 'ADJ'), ('university', 'NOUN'), ('president', 'NOUN'), ('--', '.'), ('who', 'PRON'), ('*T*-1', 'X'), ('has', 'VERB'), ('developed', 'VERB'), ('a', 'DET'), ('reputation', 'NOUN'), ('for', 'ADP'), ('*', 'X'), ('not', 'ADV'), ('overpaying', 'VERB'), ('for', 'ADP'), ('anything', 'NOUN'), ('--', '.'), ('would', 'VERB'), ('fold', 'VERB'), ('.', '.')], [('Intermec', 'NOUN'), ('Corp.', 'NOUN'), (',', '.'), ('offering', 'VERB'), ('of', 'ADP'), ('1,050,000', 'NUM'), ('common', 'ADJ'), ('shares', 'NOUN'), (',', '.'), ('via', 'ADP'), ('Goldman', 'NOUN'), (',', '.'), ('Sachs', 'NOUN'), ('&', 'CONJ'), ('Co.', 'NOUN'), ('and', 'CONJ'), ('Piper', 'NOUN'), (',', '.'), ('Jaffray', 'NOUN'), ('&', 'CONJ'), ('Hopwood', 'NOUN'), ('Inc', 'NOUN'), ('.', '.')]]\n"
     ]
    }
   ],
   "source": [
    "#Check length of training and test set\n",
    "print(len(train_set))\n",
    "print(len(test_set))\n",
    "\n",
    "#Check first few tagged sentences of training set \n",
    "print(train_set[:10])"
   ]
  },
  {
   "cell_type": "code",
   "execution_count": 6,
   "metadata": {},
   "outputs": [
    {
     "data": {
      "text/plain": [
       "95414"
      ]
     },
     "execution_count": 6,
     "metadata": {},
     "output_type": "execute_result"
    }
   ],
   "source": [
    "# Get list of tagged words from training set\n",
    "train_tagged_words = [tup for sentence in train_set for tup in sentence]\n",
    "len(train_tagged_words)"
   ]
  },
  {
   "cell_type": "code",
   "execution_count": 7,
   "metadata": {},
   "outputs": [
    {
     "data": {
      "text/plain": [
       "[('She', 'PRON'),\n",
       " ('says', 'VERB'),\n",
       " ('0', 'X'),\n",
       " ('she', 'PRON'),\n",
       " ('offered', 'VERB'),\n",
       " ('Mrs.', 'NOUN'),\n",
       " ('Yeargin', 'NOUN'),\n",
       " ('a', 'DET'),\n",
       " ('quiet', 'ADJ'),\n",
       " ('resignation', 'NOUN')]"
      ]
     },
     "execution_count": 7,
     "metadata": {},
     "output_type": "execute_result"
    }
   ],
   "source": [
    "#Check first few words along with their tags\n",
    "train_tagged_words[:10]"
   ]
  },
  {
   "cell_type": "code",
   "execution_count": 8,
   "metadata": {},
   "outputs": [
    {
     "data": {
      "text/plain": [
       "['She',\n",
       " 'says',\n",
       " '0',\n",
       " 'she',\n",
       " 'offered',\n",
       " 'Mrs.',\n",
       " 'Yeargin',\n",
       " 'a',\n",
       " 'quiet',\n",
       " 'resignation']"
      ]
     },
     "execution_count": 8,
     "metadata": {},
     "output_type": "execute_result"
    }
   ],
   "source": [
    "# Get list of words/tokens from training set\n",
    "tokens = [pair[0] for pair in train_tagged_words]\n",
    "tokens[:10]"
   ]
  },
  {
   "cell_type": "code",
   "execution_count": 9,
   "metadata": {},
   "outputs": [
    {
     "name": "stdout",
     "output_type": "stream",
     "text": [
      "12032\n"
     ]
    }
   ],
   "source": [
    "# Get vocabulary from training set\n",
    "vocabulary = set(tokens)\n",
    "print(len(vocabulary))"
   ]
  },
  {
   "cell_type": "code",
   "execution_count": 10,
   "metadata": {},
   "outputs": [
    {
     "name": "stdout",
     "output_type": "stream",
     "text": [
      "{'.', 'PRON', 'X', 'NOUN', 'ADP', 'VERB', 'ADJ', 'ADV', 'DET', 'CONJ', 'PRT', 'NUM'}\n"
     ]
    }
   ],
   "source": [
    "# Get list of tags\n",
    "tags = set([pair[1] for pair in train_tagged_words])\n",
    "print(tags)"
   ]
  },
  {
   "cell_type": "markdown",
   "metadata": {},
   "source": [
    "There are total 12 tags in the tagset."
   ]
  },
  {
   "cell_type": "markdown",
   "metadata": {},
   "source": [
    "### Build the vanilla Viterbi based POS tagger"
   ]
  },
  {
   "cell_type": "markdown",
   "metadata": {},
   "source": [
    "We'll use the HMM algorithm to tag the words. Given a sequence of words to be tagged, the task is to assign the most probable tag to the word. In other words, to every word w, assign the tag t that maximises the likelihood P(t/w).\n",
    "\n",
    "Since P(t/w) = P(w/t). P(t) / P(w), after ignoring P(w), we have to compute P(w/t) and P(t).\n",
    "\n",
    "Now:\n",
    "\n",
    "- Emission probability OR P(w/t) is the probability of a given word for a given tag. This can be computed based on the fraction of given word for given tag to the total count of that tag, ie: P(w/t) = count(w, t) / count(t).\n",
    "\n",
    "- Transition probability OR P(t) is the probability of tag, and in a tagging task, we assume that a tag will depend only on the previous tag (Markov order 1 assumption). In other words, the probability of say a tag being NN will depend only on the previous tag t(n-1). So for e.g. if t(n-1) is a JJ, then t(n) is likely to be an NN since adjectives often precede a noun."
   ]
  },
  {
   "cell_type": "markdown",
   "metadata": {},
   "source": [
    "#### Calculate Emission Probabilities"
   ]
  },
  {
   "cell_type": "code",
   "execution_count": 11,
   "metadata": {},
   "outputs": [],
   "source": [
    "# computing P(w/t) and storing in T x V matrix\n",
    "t = len(tags)\n",
    "v = len(vocabulary)\n",
    "w_given_t = np.zeros((t, v))"
   ]
  },
  {
   "cell_type": "code",
   "execution_count": 12,
   "metadata": {},
   "outputs": [],
   "source": [
    "# compute Emission probability i.e. word given tag\n",
    "def word_given_tag(word, tag, train_bag = train_tagged_words):\n",
    "    tag_list = [pair for pair in train_bag if pair[1]==tag]\n",
    "    count_tag = len(tag_list)\n",
    "    w_given_tag_list = [pair[0] for pair in tag_list if pair[0]==word]\n",
    "    count_w_given_tag = len(w_given_tag_list)\n",
    "    \n",
    "    return (count_w_given_tag, count_tag)"
   ]
  },
  {
   "cell_type": "markdown",
   "metadata": {},
   "source": [
    "Let's run this function for few words and tags and check the emission probability of these pairs."
   ]
  },
  {
   "cell_type": "code",
   "execution_count": 13,
   "metadata": {},
   "outputs": [
    {
     "name": "stdout",
     "output_type": "stream",
     "text": [
      "\n",
      " bright\n",
      "(0, 2592)\n",
      "(6, 27347)\n",
      "\n",
      " is\n",
      "(0, 8257)\n",
      "(630, 12848)\n",
      "\n",
      " growing\n",
      "(22, 12848)\n",
      "(0, 9365)\n"
     ]
    }
   ],
   "source": [
    "# bright\n",
    "print(\"\\n\", \"bright\")\n",
    "print(word_given_tag('language', 'PRON'))\n",
    "print(word_given_tag('language', 'NOUN'))\n",
    "\n",
    "# is\n",
    "print(\"\\n\", \"is\")\n",
    "print(word_given_tag('is', 'DET'))\n",
    "print(word_given_tag('is', 'VERB'))\n",
    "\n",
    "# growing\n",
    "print(\"\\n\", \"growing\")\n",
    "print(word_given_tag('growing', 'VERB'))\n",
    "print(word_given_tag('growing', 'ADP'))"
   ]
  },
  {
   "cell_type": "markdown",
   "metadata": {},
   "source": [
    "#### Compute Transition Probabilities"
   ]
  },
  {
   "cell_type": "code",
   "execution_count": 14,
   "metadata": {},
   "outputs": [],
   "source": [
    "# compute transition probability i.e. probability of a tag occuring after another tag: tag2(t2) given tag1 (t1)\n",
    "\n",
    "def t2_given_t1(t2, t1, train_bag = train_tagged_words):\n",
    "    tags = [pair[1] for pair in train_bag]\n",
    "    count_t1 = len([t for t in tags if t==t1])\n",
    "    count_t2_t1 = 0\n",
    "    for index in range(len(tags)-1):\n",
    "        if tags[index]==t1 and tags[index+1] == t2:\n",
    "            count_t2_t1 += 1\n",
    "    return (count_t2_t1, count_t1)"
   ]
  },
  {
   "cell_type": "markdown",
   "metadata": {},
   "source": [
    "Let's run this function on few tags and check the transition probabilities for few tags pairs."
   ]
  },
  {
   "cell_type": "code",
   "execution_count": 15,
   "metadata": {},
   "outputs": [
    {
     "name": "stdout",
     "output_type": "stream",
     "text": [
      "(4, 6080)\n",
      "(4252, 6080)\n",
      "(5264, 8257)\n",
      "(450, 12848)\n",
      "(1262, 2592)\n"
     ]
    }
   ],
   "source": [
    "# examples\n",
    "print(t2_given_t1('PRON', 'ADJ'))\n",
    "print(t2_given_t1('NOUN', 'ADJ'))\n",
    "print(t2_given_t1('NOUN', 'DET'))\n",
    "print(t2_given_t1('PRON', 'VERB'))\n",
    "print(t2_given_t1('VERB', 'PRON'))"
   ]
  },
  {
   "cell_type": "markdown",
   "metadata": {},
   "source": [
    "Let's store these emission probabilities in a matrix."
   ]
  },
  {
   "cell_type": "code",
   "execution_count": 16,
   "metadata": {},
   "outputs": [],
   "source": [
    "# creating t x t transition matrix of tags where each column is t2, each row is t1\n",
    "# M(i, j) represents P(tj given ti)\n",
    "\n",
    "tags_matrix = np.zeros((len(tags), len(tags)), dtype='float32')\n",
    "for i, t1 in enumerate(list(tags)):\n",
    "    for j, t2 in enumerate(list(tags)): \n",
    "        tags_matrix[i, j] = t2_given_t1(t2, t1)[0]/t2_given_t1(t2, t1)[1]"
   ]
  },
  {
   "cell_type": "code",
   "execution_count": 17,
   "metadata": {},
   "outputs": [
    {
     "data": {
      "text/plain": [
       "array([[9.18597281e-02, 6.58974126e-02, 2.66834944e-02, 2.22212210e-01,\n",
       "        9.11385566e-02, 8.96060616e-02, 4.42621484e-02, 5.30965477e-02,\n",
       "        1.74073741e-01, 5.79644814e-02, 2.34382041e-03, 8.07716548e-02],\n",
       "       [3.93518507e-02, 8.10185168e-03, 9.06635821e-02, 2.12191358e-01,\n",
       "        2.27623452e-02, 4.86882716e-01, 7.33024701e-02, 3.47222239e-02,\n",
       "        8.87345709e-03, 4.62962966e-03, 1.11882715e-02, 7.33024674e-03],\n",
       "       [1.64033830e-01, 5.56885265e-02, 7.48364478e-02, 6.23902977e-02,\n",
       "        1.44566774e-01, 2.04882726e-01, 1.64352953e-02, 2.45731603e-02,\n",
       "        5.45715652e-02, 1.03717884e-02, 1.84936970e-01, 2.71262159e-03],\n",
       "       [2.40209162e-01, 4.38804971e-03, 2.92170979e-02, 2.63648659e-01,\n",
       "        1.77350342e-01, 1.46341458e-01, 1.23962406e-02, 1.72962304e-02,\n",
       "        1.29081802e-02, 4.24909480e-02, 4.42461707e-02, 9.50744096e-03],\n",
       "       [3.96155901e-02, 6.94073662e-02, 3.55579294e-02, 3.20128143e-01,\n",
       "        1.67645495e-02, 8.32888391e-03, 1.07848369e-01, 1.31340092e-02,\n",
       "        3.24399352e-01, 9.61025071e-04, 1.38814736e-03, 6.24666326e-02],\n",
       "       [3.47135738e-02, 3.50249074e-02, 2.17387915e-01, 1.11145705e-01,\n",
       "        9.23100859e-02, 1.68742210e-01, 6.46793246e-02, 8.11021179e-02,\n",
       "        1.34729147e-01, 5.52615197e-03, 3.13667506e-02, 2.32721046e-02],\n",
       "       [6.54605255e-02, 6.57894765e-04, 2.08881572e-02, 6.99342132e-01,\n",
       "        7.73026347e-02, 1.15131577e-02, 6.71052635e-02, 4.60526301e-03,\n",
       "        4.60526301e-03, 1.71052627e-02, 1.06907897e-02, 2.07236838e-02],\n",
       "       [1.36015967e-01, 1.52976392e-02, 2.22813431e-02, 3.29231806e-02,\n",
       "        1.18390426e-01, 3.46192211e-01, 1.29364818e-01, 8.18091109e-02,\n",
       "        6.65114745e-02, 6.98370486e-03, 1.39674097e-02, 3.02627198e-02],\n",
       "       [1.79241858e-02, 3.75439017e-03, 4.56582308e-02, 6.37519658e-01,\n",
       "        9.32542048e-03, 3.99660878e-02, 2.05038145e-01, 1.27164833e-02,\n",
       "        5.32881171e-03, 4.84437449e-04, 2.42218724e-04, 2.20419038e-02],\n",
       "       [3.72786596e-02, 5.91798685e-02, 8.38769786e-03, 3.46691519e-01,\n",
       "        5.31220883e-02, 1.59366265e-01, 1.17427774e-01, 5.49860187e-02,\n",
       "        1.16961792e-01, 4.65983234e-04, 5.12581551e-03, 4.10065241e-02],\n",
       "       [4.32220027e-02, 1.86640471e-02, 1.34250168e-02, 2.49508843e-01,\n",
       "        2.03012452e-02, 3.99148643e-01, 8.48068073e-02, 9.49574355e-03,\n",
       "        9.98690277e-02, 2.29207589e-03, 1.96463661e-03, 5.73018976e-02],\n",
       "       [1.16438359e-01, 1.48898154e-03, 2.12030977e-01, 3.52590829e-01,\n",
       "        3.48421670e-02, 1.72721855e-02, 3.42465751e-02, 2.97796307e-03,\n",
       "        3.27575929e-03, 1.39964260e-02, 2.62060743e-02, 1.84633717e-01]],\n",
       "      dtype=float32)"
      ]
     },
     "execution_count": 17,
     "metadata": {},
     "output_type": "execute_result"
    }
   ],
   "source": [
    "tags_matrix"
   ]
  },
  {
   "cell_type": "code",
   "execution_count": 18,
   "metadata": {},
   "outputs": [
    {
     "data": {
      "text/html": [
       "<div>\n",
       "<style scoped>\n",
       "    .dataframe tbody tr th:only-of-type {\n",
       "        vertical-align: middle;\n",
       "    }\n",
       "\n",
       "    .dataframe tbody tr th {\n",
       "        vertical-align: top;\n",
       "    }\n",
       "\n",
       "    .dataframe thead th {\n",
       "        text-align: right;\n",
       "    }\n",
       "</style>\n",
       "<table border=\"1\" class=\"dataframe\">\n",
       "  <thead>\n",
       "    <tr style=\"text-align: right;\">\n",
       "      <th></th>\n",
       "      <th>.</th>\n",
       "      <th>PRON</th>\n",
       "      <th>X</th>\n",
       "      <th>NOUN</th>\n",
       "      <th>ADP</th>\n",
       "      <th>VERB</th>\n",
       "      <th>ADJ</th>\n",
       "      <th>ADV</th>\n",
       "      <th>DET</th>\n",
       "      <th>CONJ</th>\n",
       "      <th>PRT</th>\n",
       "      <th>NUM</th>\n",
       "    </tr>\n",
       "  </thead>\n",
       "  <tbody>\n",
       "    <tr>\n",
       "      <th>.</th>\n",
       "      <td>0.091860</td>\n",
       "      <td>0.065897</td>\n",
       "      <td>0.026683</td>\n",
       "      <td>0.222212</td>\n",
       "      <td>0.091139</td>\n",
       "      <td>0.089606</td>\n",
       "      <td>0.044262</td>\n",
       "      <td>0.053097</td>\n",
       "      <td>0.174074</td>\n",
       "      <td>0.057964</td>\n",
       "      <td>0.002344</td>\n",
       "      <td>0.080772</td>\n",
       "    </tr>\n",
       "    <tr>\n",
       "      <th>PRON</th>\n",
       "      <td>0.039352</td>\n",
       "      <td>0.008102</td>\n",
       "      <td>0.090664</td>\n",
       "      <td>0.212191</td>\n",
       "      <td>0.022762</td>\n",
       "      <td>0.486883</td>\n",
       "      <td>0.073302</td>\n",
       "      <td>0.034722</td>\n",
       "      <td>0.008873</td>\n",
       "      <td>0.004630</td>\n",
       "      <td>0.011188</td>\n",
       "      <td>0.007330</td>\n",
       "    </tr>\n",
       "    <tr>\n",
       "      <th>X</th>\n",
       "      <td>0.164034</td>\n",
       "      <td>0.055689</td>\n",
       "      <td>0.074836</td>\n",
       "      <td>0.062390</td>\n",
       "      <td>0.144567</td>\n",
       "      <td>0.204883</td>\n",
       "      <td>0.016435</td>\n",
       "      <td>0.024573</td>\n",
       "      <td>0.054572</td>\n",
       "      <td>0.010372</td>\n",
       "      <td>0.184937</td>\n",
       "      <td>0.002713</td>\n",
       "    </tr>\n",
       "    <tr>\n",
       "      <th>NOUN</th>\n",
       "      <td>0.240209</td>\n",
       "      <td>0.004388</td>\n",
       "      <td>0.029217</td>\n",
       "      <td>0.263649</td>\n",
       "      <td>0.177350</td>\n",
       "      <td>0.146341</td>\n",
       "      <td>0.012396</td>\n",
       "      <td>0.017296</td>\n",
       "      <td>0.012908</td>\n",
       "      <td>0.042491</td>\n",
       "      <td>0.044246</td>\n",
       "      <td>0.009507</td>\n",
       "    </tr>\n",
       "    <tr>\n",
       "      <th>ADP</th>\n",
       "      <td>0.039616</td>\n",
       "      <td>0.069407</td>\n",
       "      <td>0.035558</td>\n",
       "      <td>0.320128</td>\n",
       "      <td>0.016765</td>\n",
       "      <td>0.008329</td>\n",
       "      <td>0.107848</td>\n",
       "      <td>0.013134</td>\n",
       "      <td>0.324399</td>\n",
       "      <td>0.000961</td>\n",
       "      <td>0.001388</td>\n",
       "      <td>0.062467</td>\n",
       "    </tr>\n",
       "    <tr>\n",
       "      <th>VERB</th>\n",
       "      <td>0.034714</td>\n",
       "      <td>0.035025</td>\n",
       "      <td>0.217388</td>\n",
       "      <td>0.111146</td>\n",
       "      <td>0.092310</td>\n",
       "      <td>0.168742</td>\n",
       "      <td>0.064679</td>\n",
       "      <td>0.081102</td>\n",
       "      <td>0.134729</td>\n",
       "      <td>0.005526</td>\n",
       "      <td>0.031367</td>\n",
       "      <td>0.023272</td>\n",
       "    </tr>\n",
       "    <tr>\n",
       "      <th>ADJ</th>\n",
       "      <td>0.065461</td>\n",
       "      <td>0.000658</td>\n",
       "      <td>0.020888</td>\n",
       "      <td>0.699342</td>\n",
       "      <td>0.077303</td>\n",
       "      <td>0.011513</td>\n",
       "      <td>0.067105</td>\n",
       "      <td>0.004605</td>\n",
       "      <td>0.004605</td>\n",
       "      <td>0.017105</td>\n",
       "      <td>0.010691</td>\n",
       "      <td>0.020724</td>\n",
       "    </tr>\n",
       "    <tr>\n",
       "      <th>ADV</th>\n",
       "      <td>0.136016</td>\n",
       "      <td>0.015298</td>\n",
       "      <td>0.022281</td>\n",
       "      <td>0.032923</td>\n",
       "      <td>0.118390</td>\n",
       "      <td>0.346192</td>\n",
       "      <td>0.129365</td>\n",
       "      <td>0.081809</td>\n",
       "      <td>0.066511</td>\n",
       "      <td>0.006984</td>\n",
       "      <td>0.013967</td>\n",
       "      <td>0.030263</td>\n",
       "    </tr>\n",
       "    <tr>\n",
       "      <th>DET</th>\n",
       "      <td>0.017924</td>\n",
       "      <td>0.003754</td>\n",
       "      <td>0.045658</td>\n",
       "      <td>0.637520</td>\n",
       "      <td>0.009325</td>\n",
       "      <td>0.039966</td>\n",
       "      <td>0.205038</td>\n",
       "      <td>0.012716</td>\n",
       "      <td>0.005329</td>\n",
       "      <td>0.000484</td>\n",
       "      <td>0.000242</td>\n",
       "      <td>0.022042</td>\n",
       "    </tr>\n",
       "    <tr>\n",
       "      <th>CONJ</th>\n",
       "      <td>0.037279</td>\n",
       "      <td>0.059180</td>\n",
       "      <td>0.008388</td>\n",
       "      <td>0.346692</td>\n",
       "      <td>0.053122</td>\n",
       "      <td>0.159366</td>\n",
       "      <td>0.117428</td>\n",
       "      <td>0.054986</td>\n",
       "      <td>0.116962</td>\n",
       "      <td>0.000466</td>\n",
       "      <td>0.005126</td>\n",
       "      <td>0.041007</td>\n",
       "    </tr>\n",
       "    <tr>\n",
       "      <th>PRT</th>\n",
       "      <td>0.043222</td>\n",
       "      <td>0.018664</td>\n",
       "      <td>0.013425</td>\n",
       "      <td>0.249509</td>\n",
       "      <td>0.020301</td>\n",
       "      <td>0.399149</td>\n",
       "      <td>0.084807</td>\n",
       "      <td>0.009496</td>\n",
       "      <td>0.099869</td>\n",
       "      <td>0.002292</td>\n",
       "      <td>0.001965</td>\n",
       "      <td>0.057302</td>\n",
       "    </tr>\n",
       "    <tr>\n",
       "      <th>NUM</th>\n",
       "      <td>0.116438</td>\n",
       "      <td>0.001489</td>\n",
       "      <td>0.212031</td>\n",
       "      <td>0.352591</td>\n",
       "      <td>0.034842</td>\n",
       "      <td>0.017272</td>\n",
       "      <td>0.034247</td>\n",
       "      <td>0.002978</td>\n",
       "      <td>0.003276</td>\n",
       "      <td>0.013996</td>\n",
       "      <td>0.026206</td>\n",
       "      <td>0.184634</td>\n",
       "    </tr>\n",
       "  </tbody>\n",
       "</table>\n",
       "</div>"
      ],
      "text/plain": [
       "             .      PRON         X      NOUN       ADP      VERB       ADJ  \\\n",
       ".     0.091860  0.065897  0.026683  0.222212  0.091139  0.089606  0.044262   \n",
       "PRON  0.039352  0.008102  0.090664  0.212191  0.022762  0.486883  0.073302   \n",
       "X     0.164034  0.055689  0.074836  0.062390  0.144567  0.204883  0.016435   \n",
       "NOUN  0.240209  0.004388  0.029217  0.263649  0.177350  0.146341  0.012396   \n",
       "ADP   0.039616  0.069407  0.035558  0.320128  0.016765  0.008329  0.107848   \n",
       "VERB  0.034714  0.035025  0.217388  0.111146  0.092310  0.168742  0.064679   \n",
       "ADJ   0.065461  0.000658  0.020888  0.699342  0.077303  0.011513  0.067105   \n",
       "ADV   0.136016  0.015298  0.022281  0.032923  0.118390  0.346192  0.129365   \n",
       "DET   0.017924  0.003754  0.045658  0.637520  0.009325  0.039966  0.205038   \n",
       "CONJ  0.037279  0.059180  0.008388  0.346692  0.053122  0.159366  0.117428   \n",
       "PRT   0.043222  0.018664  0.013425  0.249509  0.020301  0.399149  0.084807   \n",
       "NUM   0.116438  0.001489  0.212031  0.352591  0.034842  0.017272  0.034247   \n",
       "\n",
       "           ADV       DET      CONJ       PRT       NUM  \n",
       ".     0.053097  0.174074  0.057964  0.002344  0.080772  \n",
       "PRON  0.034722  0.008873  0.004630  0.011188  0.007330  \n",
       "X     0.024573  0.054572  0.010372  0.184937  0.002713  \n",
       "NOUN  0.017296  0.012908  0.042491  0.044246  0.009507  \n",
       "ADP   0.013134  0.324399  0.000961  0.001388  0.062467  \n",
       "VERB  0.081102  0.134729  0.005526  0.031367  0.023272  \n",
       "ADJ   0.004605  0.004605  0.017105  0.010691  0.020724  \n",
       "ADV   0.081809  0.066511  0.006984  0.013967  0.030263  \n",
       "DET   0.012716  0.005329  0.000484  0.000242  0.022042  \n",
       "CONJ  0.054986  0.116962  0.000466  0.005126  0.041007  \n",
       "PRT   0.009496  0.099869  0.002292  0.001965  0.057302  \n",
       "NUM   0.002978  0.003276  0.013996  0.026206  0.184634  "
      ]
     },
     "execution_count": 18,
     "metadata": {},
     "output_type": "execute_result"
    }
   ],
   "source": [
    "# convert the matrix to a dataframe for better readability\n",
    "tags_df = pd.DataFrame(tags_matrix, columns = list(tags), index=list(tags))\n",
    "tags_df"
   ]
  },
  {
   "cell_type": "code",
   "execution_count": 19,
   "metadata": {},
   "outputs": [
    {
     "data": {
      "text/plain": [
       ".       0.091860\n",
       "PRON    0.065897\n",
       "X       0.026683\n",
       "NOUN    0.222212\n",
       "ADP     0.091139\n",
       "VERB    0.089606\n",
       "ADJ     0.044262\n",
       "ADV     0.053097\n",
       "DET     0.174074\n",
       "CONJ    0.057964\n",
       "PRT     0.002344\n",
       "NUM     0.080772\n",
       "Name: ., dtype: float32"
      ]
     },
     "execution_count": 19,
     "metadata": {},
     "output_type": "execute_result"
    }
   ],
   "source": [
    "#See the probability of sentence starting with a particular tag\n",
    "tags_df.loc['.', :]"
   ]
  },
  {
   "cell_type": "markdown",
   "metadata": {},
   "source": [
    "We can observe from above result that probability of a sentenc starting with Noun is highest (22%) followed by Determiner (17.4%)."
   ]
  },
  {
   "cell_type": "code",
   "execution_count": 20,
   "metadata": {},
   "outputs": [
    {
     "data": {
      "image/png": "[encoded data removed]",
      "text/plain": [
       "<Figure size 1296x864 with 2 Axes>"
      ]
     },
     "metadata": {
      "needs_background": "light"
     },
     "output_type": "display_data"
    }
   ],
   "source": [
    "# heatmap of tags matrix\n",
    "# T(i, j) means P(tag j given tag i)\n",
    "plt.figure(figsize=(18, 12))\n",
    "sns.heatmap(tags_df)\n",
    "plt.show()"
   ]
  },
  {
   "cell_type": "markdown",
   "metadata": {},
   "source": [
    "Let's filter out the pair of tags with high probabilities of occuring in conjuction."
   ]
  },
  {
   "cell_type": "code",
   "execution_count": 21,
   "metadata": {},
   "outputs": [
    {
     "data": {
      "image/png": "[encoded data removed]",
      "text/plain": [
       "<Figure size 1296x864 with 2 Axes>"
      ]
     },
     "metadata": {
      "needs_background": "light"
     },
     "output_type": "display_data"
    }
   ],
   "source": [
    "# frequent tags\n",
    "tags_frequent = tags_df[tags_df>0.5]\n",
    "plt.figure(figsize=(18, 12))\n",
    "sns.heatmap(tags_frequent)\n",
    "plt.show()"
   ]
  },
  {
   "cell_type": "markdown",
   "metadata": {},
   "source": [
    "It can be observed from above heatmap that probability of noun being followed by Adjective and Determiner are highest."
   ]
  },
  {
   "cell_type": "markdown",
   "metadata": {},
   "source": [
    "### Viterbi Algorithm\n",
    "\n",
    "Let's now use the computed probabilities P(w, tag) and P(t2, t1) to assign tags to each word in the document. We'll run through each word w and compute P(tag/w)=P(w/tag).P(tag) for each tag in the tag set, and then assign the tag having the max P(tag/w).\n",
    "\n",
    "We'll store the assigned tags in a list of tuples, similar to the list 'train_tagged_words'. Each tuple will be a (token, assigned_tag). As we progress further in the list, each tag to be assigned will use the tag of the previous token.\n",
    "\n",
    "Note: P(tag|start) = P(tag|'.') "
   ]
  },
  {
   "cell_type": "code",
   "execution_count": 22,
   "metadata": {},
   "outputs": [
    {
     "data": {
      "text/plain": [
       "95414"
      ]
     },
     "execution_count": 22,
     "metadata": {},
     "output_type": "execute_result"
    }
   ],
   "source": [
    "len(train_tagged_words)"
   ]
  },
  {
   "cell_type": "code",
   "execution_count": 23,
   "metadata": {},
   "outputs": [],
   "source": [
    "# Viterbi Heuristic\n",
    "def Viterbi_Vanilla(words, train_bag = train_tagged_words):\n",
    "    state = []\n",
    "    T = list(set([pair[1] for pair in train_bag]))\n",
    "    \n",
    "    for key, word in enumerate(words):\n",
    "        #initialise list of probability column for a given observation\n",
    "        p = [] \n",
    "        for tag in T:\n",
    "            if key == 0:\n",
    "                transition_p = tags_df.loc['.', tag]\n",
    "            else:\n",
    "                transition_p = tags_df.loc[state[-1], tag]\n",
    "                \n",
    "            # compute emission and state probabilities\n",
    "            emission_p = word_given_tag(words[key], tag)[0]/word_given_tag(words[key], tag)[1]\n",
    "            state_probability = emission_p * transition_p    \n",
    "            p.append(state_probability)\n",
    "            \n",
    "        pmax = max(p)\n",
    "        # getting state for which probability is maximum\n",
    "        state_max = T[p.index(pmax)] \n",
    "        state.append(state_max)\n",
    "    return list(zip(words, state))"
   ]
  },
  {
   "cell_type": "code",
   "execution_count": 24,
   "metadata": {},
   "outputs": [
    {
     "data": {
      "text/plain": [
       "5262"
      ]
     },
     "execution_count": 24,
     "metadata": {},
     "output_type": "execute_result"
    }
   ],
   "source": [
    "# list of tagged words\n",
    "test_run_base = [tup for sentence in test_set for tup in sentence]\n",
    "test_run_base\n",
    "\n",
    "# list of words\n",
    "test_tagged_words = [tup[0] for sentence in test_set for tup in sentence]\n",
    "len(test_tagged_words)"
   ]
  },
  {
   "cell_type": "code",
   "execution_count": 25,
   "metadata": {},
   "outputs": [],
   "source": [
    "# Let's test our Viterbi algorithm on a few sample sentences of test dataset\n",
    "random.seed(100)\n",
    "\n",
    "# choose random 5 sentences\n",
    "rndom = [random.randint(1,len(test_set)) for x in range(5)]\n",
    "\n",
    "# list of sentences\n",
    "test_run = [test_set[i] for i in rndom]\n",
    "\n",
    "# list of tagged words\n",
    "test_run_base = [tup for sent in test_run for tup in sent]\n",
    "\n",
    "# list of untagged words\n",
    "test_tagged_words = [tup[0] for sent in test_run for tup in sent]"
   ]
  },
  {
   "cell_type": "code",
   "execution_count": 26,
   "metadata": {},
   "outputs": [
    {
     "name": "stdout",
     "output_type": "stream",
     "text": [
      "Time taken in seconds:  37.65242886543274\n"
     ]
    }
   ],
   "source": [
    "# tagging the test sentences\n",
    "start = time.time()\n",
    "tagged_seq = Viterbi_Vanilla(test_tagged_words)\n",
    "end = time.time()\n",
    "difference = end-start\n",
    "\n",
    "print(\"Time taken in seconds: \", difference)"
   ]
  },
  {
   "cell_type": "code",
   "execution_count": 27,
   "metadata": {},
   "outputs": [
    {
     "name": "stdout",
     "output_type": "stream",
     "text": [
      "Vanilla Viterbi Algorithm Accuracy:  90.06211180124224\n"
     ]
    }
   ],
   "source": [
    "# get accuracy\n",
    "check = [i for i, j in zip(tagged_seq, test_run_base) if i == j] \n",
    "\n",
    "vanilla_viterbi_accuracy = len(check)*100/len(tagged_seq)\n",
    "print('Vanilla Viterbi Algorithm Accuracy: ', vanilla_viterbi_accuracy)"
   ]
  },
  {
   "cell_type": "markdown",
   "metadata": {},
   "source": [
    "### Solve the problem of unknown words"
   ]
  },
  {
   "cell_type": "markdown",
   "metadata": {},
   "source": [
    "In order to increase the accuracy of out algorithm, we need to find out the words which were tagged incorrectly by vanila viterbi algorithm and then analyze this data to check what all improvements can be made."
   ]
  },
  {
   "cell_type": "code",
   "execution_count": 28,
   "metadata": {},
   "outputs": [
    {
     "data": {
      "text/plain": [
       "[(('continuingly', '.'), ('continuingly', 'ADV')),\n",
       " (('directed', '.'), ('directed', 'VERB')),\n",
       " (('mining', '.'), ('mining', 'NOUN')),\n",
       " (('hugging', '.'), ('hugging', 'VERB')),\n",
       " (('matters', 'NOUN'), ('matters', 'VERB')),\n",
       " (('*T*-15', '.'), ('*T*-15', 'X')),\n",
       " (('fine', 'NOUN'), ('fine', 'ADV')),\n",
       " (('plaintive', '.'), ('plaintive', 'ADJ')),\n",
       " (('high-minded', '.'), ('high-minded', 'ADJ')),\n",
       " (('assurance', '.'), ('assurance', 'NOUN')),\n",
       " (('reading', 'NOUN'), ('reading', 'VERB')),\n",
       " (('sticky', '.'), ('sticky', 'ADJ')),\n",
       " (('fingers', '.'), ('fingers', 'NOUN')),\n",
       " (('sweaty', '.'), ('sweaty', 'ADJ')),\n",
       " (('Eliminate', '.'), ('Eliminate', 'VERB')),\n",
       " (('more', 'ADV'), ('more', 'ADJ'))]"
      ]
     },
     "execution_count": 28,
     "metadata": {},
     "output_type": "execute_result"
    }
   ],
   "source": [
    "#Get list of words which were tagged incorrectly by vanila viterbi\n",
    "incorrect_tagged_cases = [j for i, j in enumerate(zip(tagged_seq, test_run_base)) if j[0]!=j[1]]\n",
    "incorrect_tagged_cases"
   ]
  },
  {
   "cell_type": "code",
   "execution_count": 29,
   "metadata": {},
   "outputs": [
    {
     "data": {
      "text/plain": [
       "16"
      ]
     },
     "execution_count": 29,
     "metadata": {},
     "output_type": "execute_result"
    }
   ],
   "source": [
    "len(incorrect_tagged_cases)"
   ]
  },
  {
   "cell_type": "markdown",
   "metadata": {},
   "source": [
    "From above set it is clear that all unknown words are tagged with Tag ADJ as this is the first tag in tags list. If an unknown word is countered then this tag is assigned as the emission probability for an unknown word is 0.\n",
    "\n",
    "Let's modify the vanila Viterbi algorithm to tackle this problem.\n"
   ]
  },
  {
   "cell_type": "markdown",
   "metadata": {},
   "source": [
    "### Viterbi Modification-Technique I\n"
   ]
  },
  {
   "cell_type": "markdown",
   "metadata": {},
   "source": [
    "First solution for unknown words: \n",
    "We can do the assignment based on transition probabilities in case of of unknown words since emission probability for unknown word is zero and vanilla viterbi algorithm is assigning ADJ tag to all unknown words which is resulting in tagging errors.\n"
   ]
  },
  {
   "cell_type": "code",
   "execution_count": 30,
   "metadata": {},
   "outputs": [],
   "source": [
    "# Viterbi Heuristic\n",
    "def Viterbi_modified(words, train_bag = train_tagged_words):\n",
    "    state = []\n",
    "    T = list(set([pair[1] for pair in train_bag]))\n",
    "    \n",
    "    for key, word in enumerate(words):\n",
    "        #initialise list of probability column for a given observation\n",
    "        p = [] \n",
    "        p_transition =[] # list for storing transition probabilities\n",
    "        for tag in T:\n",
    "            if key == 0:\n",
    "                transition_p = tags_df.loc['.', tag]\n",
    "            else:\n",
    "                transition_p = tags_df.loc[state[-1], tag]\n",
    "                \n",
    "            # compute emission and state probabilities\n",
    "            emission_p = word_given_tag(words[key], tag)[0]/word_given_tag(words[key], tag)[1]\n",
    "            state_probability = emission_p * transition_p    \n",
    "            p.append(state_probability)\n",
    "            p_transition.append(transition_p)\n",
    "            \n",
    "        pmax = max(p)\n",
    "        \n",
    "        # if probability is zero (unknown word) then use transition probability\n",
    "        if(pmax==0):\n",
    "            pmax = max(p_transition)\n",
    "            \n",
    "            # getting state for which transition probability is maximum\n",
    "            state_max = T[p_transition.index(pmax)]\n",
    "                           \n",
    "        else:\n",
    "            # getting state for which probability is maximum\n",
    "            state_max = T[p.index(pmax)] \n",
    "        state.append(state_max)\n",
    "        \n",
    "    return list(zip(words, state))"
   ]
  },
  {
   "cell_type": "code",
   "execution_count": 31,
   "metadata": {},
   "outputs": [],
   "source": [
    "# tagging the test sentences\n",
    "tagged_seq_modified = Viterbi_modified(test_tagged_words)"
   ]
  },
  {
   "cell_type": "code",
   "execution_count": 32,
   "metadata": {},
   "outputs": [
    {
     "data": {
      "text/plain": [
       "0.9316770186335404"
      ]
     },
     "execution_count": 32,
     "metadata": {},
     "output_type": "execute_result"
    }
   ],
   "source": [
    "# accuracy\n",
    "check = [i for i, j in zip(tagged_seq_modified, test_run_base) if i == j] \n",
    "modified_viterbi_accuracy = len(check)/len(tagged_seq)\n",
    "modified_viterbi_accuracy"
   ]
  },
  {
   "cell_type": "markdown",
   "metadata": {},
   "source": [
    "#### Adding Tag occurance probability weights\n",
    "\n",
    "we will apply weights based on the probability of tag occurance to the transition probabilities of tags and then use the resulting probability for predicting unknown words.\n",
    "\n",
    "This scheme will also take into account that some POS tags are more likely to occur as compared to others."
   ]
  },
  {
   "cell_type": "code",
   "execution_count": 33,
   "metadata": {},
   "outputs": [
    {
     "data": {
      "text/plain": [
       "[('.', 0.11626176452092984),\n",
       " ('PRON', 0.027165824721738948),\n",
       " ('X', 0.06568218500429707),\n",
       " ('NOUN', 0.28661412371350115),\n",
       " ('ADP', 0.09815121470643721),\n",
       " ('VERB', 0.1346552916762739),\n",
       " ('ADJ', 0.06372230490284445),\n",
       " ('ADV', 0.03151529125704823),\n",
       " ('DET', 0.0865386630892741),\n",
       " ('CONJ', 0.022491458276563188),\n",
       " ('PRT', 0.032007881442974825),\n",
       " ('NUM', 0.03519399668811705)]"
      ]
     },
     "execution_count": 33,
     "metadata": {},
     "output_type": "execute_result"
    }
   ],
   "source": [
    "# lets create a list containing tuples of POS tags and POS tag occurance probability, based on training data\n",
    "tag_prob = []\n",
    "total_tag = len([tag for word,tag in train_tagged_words])\n",
    "for t in tags:\n",
    "    each_tag = [tag for word,tag in train_tagged_words if tag==t]\n",
    "    tag_prob.append((t,len(each_tag)/total_tag))\n",
    "\n",
    "tag_prob"
   ]
  },
  {
   "cell_type": "code",
   "execution_count": 34,
   "metadata": {},
   "outputs": [],
   "source": [
    "def Viterbi_modified(words, train_bag = train_tagged_words):\n",
    "    state = []\n",
    "    T = list(set([pair[1] for pair in train_bag]))\n",
    "    \n",
    "    for key, word in enumerate(words):\n",
    "        #initialise list of probability column for a given observation\n",
    "        p = [] \n",
    "        p_transition =[] # list for storing transition probabilities\n",
    "       \n",
    "        for tag in T:\n",
    "            if key == 0:\n",
    "                transition_p = tags_df.loc['.', tag]\n",
    "            else:\n",
    "                transition_p = tags_df.loc[state[-1], tag]\n",
    "                \n",
    "            # compute emission and state probabilities\n",
    "            emission_p = word_given_tag(words[key], tag)[0]/word_given_tag(words[key], tag)[1]\n",
    "            state_probability = emission_p * transition_p    \n",
    "            p.append(state_probability)\n",
    "            \n",
    "            # find POS tag occurance probability\n",
    "            tag_p = [pair[1] for pair in tag_prob if pair[0]==tag ]\n",
    "            \n",
    "            # calculate the transition prob weighted by tag occurance probability.\n",
    "            transition_p = tag_p[0]*transition_p             \n",
    "            p_transition.append(transition_p)\n",
    "            \n",
    "        pmax = max(p)\n",
    "        state_max = T[p.index(pmax)] \n",
    "        \n",
    "      \n",
    "        # if probability is zero (unknown word) then use weighted transition probability\n",
    "        if(pmax==0):\n",
    "            pmax = max(p_transition)\n",
    "            state_max = T[p_transition.index(pmax)]                 \n",
    "                           \n",
    "        else:\n",
    "            state_max = T[p.index(pmax)] \n",
    "        \n",
    "        state.append(state_max)\n",
    "    return list(zip(words, state))"
   ]
  },
  {
   "cell_type": "code",
   "execution_count": 35,
   "metadata": {},
   "outputs": [
    {
     "name": "stdout",
     "output_type": "stream",
     "text": [
      "Time taken in seconds:  36.441455125808716\n"
     ]
    }
   ],
   "source": [
    "# tagging the test sentences\n",
    "start = time.time()\n",
    "tagged_seq = Viterbi_modified(test_tagged_words)\n",
    "end = time.time()\n",
    "difference = end-start\n",
    "\n",
    "print(\"Time taken in seconds: \", difference)"
   ]
  },
  {
   "cell_type": "code",
   "execution_count": 36,
   "metadata": {},
   "outputs": [
    {
     "name": "stdout",
     "output_type": "stream",
     "text": [
      "Modified Accuracy using weighted probability is:  93.16770186335404\n"
     ]
    }
   ],
   "source": [
    "modified_viterbi_accuracy = len(check)*100/len(tagged_seq)\n",
    "print('Modified Accuracy using weighted probability is: ',modified_viterbi_accuracy)"
   ]
  },
  {
   "cell_type": "code",
   "execution_count": 37,
   "metadata": {},
   "outputs": [
    {
     "data": {
      "text/plain": [
       "[(('continuingly', 'NOUN'), ('continuingly', 'ADV')),\n",
       " (('directed', 'NOUN'), ('directed', 'VERB')),\n",
       " (('matters', 'NOUN'), ('matters', 'VERB')),\n",
       " (('*T*-15', 'NOUN'), ('*T*-15', 'X')),\n",
       " (('fine', 'NOUN'), ('fine', 'ADV')),\n",
       " (('plaintive', 'NOUN'), ('plaintive', 'ADJ')),\n",
       " (('high-minded', 'NOUN'), ('high-minded', 'ADJ')),\n",
       " (('reading', 'NOUN'), ('reading', 'VERB')),\n",
       " (('sticky', 'NOUN'), ('sticky', 'ADJ')),\n",
       " (('sweaty', 'NOUN'), ('sweaty', 'ADJ')),\n",
       " (('more', 'ADV'), ('more', 'ADJ'))]"
      ]
     },
     "execution_count": 37,
     "metadata": {},
     "output_type": "execute_result"
    }
   ],
   "source": [
    "# let's check the incorrectly tagged words\n",
    "[j for i, j in enumerate(zip(tagged_seq, test_run_base)) if j[0] != j[1]]"
   ]
  },
  {
   "cell_type": "markdown",
   "metadata": {},
   "source": [
    "The following list of words have been correctly POS tagged by modified Viterbi as compared to vanilla Viterbi Algorithm:\n",
    "\n",
    "- mining: correctly tagged as NOUN\n",
    "- hugging: correctly tagged as VERB\n",
    "- assurance: correctly tagged as NOUN\n",
    "- fingers: correctly tagged as NOUN\n",
    "- Eliminate: correctly tagged as VERB "
   ]
  },
  {
   "cell_type": "markdown",
   "metadata": {},
   "source": [
    "### Viterbi Modification-Technique II\n",
    "second solution for unknown words:\n",
    "\n",
    "backoff to rule based tagger in case of unknown words.\n",
    "Let's define a rule based tagger as below:"
   ]
  },
  {
   "cell_type": "code",
   "execution_count": 38,
   "metadata": {},
   "outputs": [],
   "source": [
    "# specify patterns for tagging\n",
    "patterns = [\n",
    "    (r'.*ing$', 'VERB'),              # gerund\n",
    "    (r'.*ed$', 'VERB'),               # past tense \n",
    "    (r'.*es$', 'VERB'),               # verb    \n",
    "    (r'.*\\'s$', 'NOUN'),              # possessive nouns\n",
    "    (r'.*s$', 'NOUN'),                # plural nouns\n",
    "    (r'\\*T?\\*?-[0-9]+$', 'X'),        # X\n",
    "    (r'^-?[0-9]+(.[0-9]+)?$', 'NUM'), # cardinal numbers\n",
    "    (r'.*', 'NOUN')                   # nouns\n",
    "]\n",
    "\n",
    "# rule based tagger\n",
    "rule_based_tagger = nltk.RegexpTagger(patterns)"
   ]
  },
  {
   "cell_type": "code",
   "execution_count": 39,
   "metadata": {},
   "outputs": [],
   "source": [
    "# Modification in Viterbi Algorithm : Backoff to rule based tagger in case unknown word is encountered.\n",
    "def Viterbi_rulebased(words, train_bag = train_tagged_words):\n",
    "    state = []\n",
    "    T = list(set([pair[1] for pair in train_bag]))\n",
    "    \n",
    "    for key, word in enumerate(words):\n",
    "        #initialise list of probability column for a given observation\n",
    "        p = [] \n",
    "        for tag in T:\n",
    "            if key == 0:\n",
    "                transition_p = tags_df.loc['.', tag]\n",
    "            else:\n",
    "                transition_p = tags_df.loc[state[-1], tag]\n",
    "                \n",
    "            # compute emission and state probabilities\n",
    "            emission_p = word_given_tag(words[key], tag)[0]/word_given_tag(words[key], tag)[1]\n",
    "            state_probability = emission_p * transition_p    \n",
    "            p.append(state_probability)\n",
    "            \n",
    "        pmax = max(p)\n",
    "        state_max = rule_based_tagger.tag([word])[0][1]       \n",
    "       \n",
    "        \n",
    "        if(pmax==0):\n",
    "            state_max = rule_based_tagger.tag([word])[0][1] # assign based on rule based tagger\n",
    "        else:\n",
    "            if state_max != 'X':\n",
    "                # getting state for which probability is maximum\n",
    "                state_max = T[p.index(pmax)]                \n",
    "            \n",
    "        \n",
    "        state.append(state_max)\n",
    "    return list(zip(words, state))"
   ]
  },
  {
   "cell_type": "code",
   "execution_count": 40,
   "metadata": {},
   "outputs": [
    {
     "name": "stdout",
     "output_type": "stream",
     "text": [
      "Time taken in seconds:  37.53449773788452\n"
     ]
    }
   ],
   "source": [
    "# tagging the test sentences\n",
    "start = time.time()\n",
    "tagged_seq = Viterbi_rulebased(test_tagged_words)\n",
    "end = time.time()\n",
    "difference = end-start\n",
    "\n",
    "print(\"Time taken in seconds: \", difference)"
   ]
  },
  {
   "cell_type": "code",
   "execution_count": 41,
   "metadata": {},
   "outputs": [
    {
     "name": "stdout",
     "output_type": "stream",
     "text": [
      "Modified rulebased Viterbi Accuracy:  92.54658385093168\n"
     ]
    }
   ],
   "source": [
    "# accuracy\n",
    "check = [i for i, j in zip(tagged_seq, test_run_base) if i == j] \n",
    "rulebased_viterbi_accuracy = len(check)*100/len(tagged_seq)\n",
    "print('Modified rulebased Viterbi Accuracy: ', rulebased_viterbi_accuracy)"
   ]
  },
  {
   "cell_type": "code",
   "execution_count": 42,
   "metadata": {
    "scrolled": true
   },
   "outputs": [
    {
     "data": {
      "text/plain": [
       "[(('continuingly', 'NOUN'), ('continuingly', 'ADV')),\n",
       " (('mining', 'VERB'), ('mining', 'NOUN')),\n",
       " (('matters', 'NOUN'), ('matters', 'VERB')),\n",
       " (('fine', 'NOUN'), ('fine', 'ADV')),\n",
       " (('plaintive', 'NOUN'), ('plaintive', 'ADJ')),\n",
       " (('high-minded', 'VERB'), ('high-minded', 'ADJ')),\n",
       " (('note', 'VERB'), ('note', 'NOUN')),\n",
       " (('reading', 'NOUN'), ('reading', 'VERB')),\n",
       " (('sticky', 'NOUN'), ('sticky', 'ADJ')),\n",
       " (('sweaty', 'NOUN'), ('sweaty', 'ADJ')),\n",
       " (('Eliminate', 'NOUN'), ('Eliminate', 'VERB')),\n",
       " (('more', 'ADV'), ('more', 'ADJ'))]"
      ]
     },
     "execution_count": 42,
     "metadata": {},
     "output_type": "execute_result"
    }
   ],
   "source": [
    "# let's check the incorrectly tagged words\n",
    "[j for i, j in enumerate(zip(tagged_seq, test_run_base)) if j[0] != j[1]]"
   ]
  },
  {
   "cell_type": "markdown",
   "metadata": {},
   "source": [
    "Further modification in rule based Viterb: We know that the rule based tagger assigns 'NOUN' by default if word does not fall in any rule, to correct this let's assign the tags for any such word based purely on transition probability of tags.\n",
    "\n",
    "So, first we will modify the rule based tagger to output 'NN' instead of 'NOUN' in case word does not satisfy any rules. We also observe that any capitalized word can still be defaulted as 'NOUN' so will add one more rule for that case."
   ]
  },
  {
   "cell_type": "code",
   "execution_count": 43,
   "metadata": {},
   "outputs": [],
   "source": [
    "# specify patterns for tagging\n",
    "patterns = [\n",
    "    (r'.*ing$', 'VERB'),              # gerund\n",
    "    (r'.*ed$', 'VERB'),               # past tense \n",
    "    (r'.*es$', 'VERB'),               # verb    \n",
    "    (r'.*\\'s$', 'NOUN'),              # possessive nouns\n",
    "    (r'.*s$', 'NOUN'),                # plural nouns\n",
    "    (r'\\*T?\\*?-[0-9]+$', 'X'),        # X\n",
    "    (r'^-?[0-9]+(.[0-9]+)?$', 'NUM'), # cardinal numbers\n",
    "    (r'^[A-Z][a-z].*', 'NOUN'),       # NOUN\n",
    "    (r'.*', 'NN')                     # default\n",
    "]\n",
    "\n",
    "# rule based tagger\n",
    "rule_based_tagger = nltk.RegexpTagger(patterns)"
   ]
  },
  {
   "cell_type": "code",
   "execution_count": 44,
   "metadata": {},
   "outputs": [],
   "source": [
    "# modified Viterbi\n",
    "def Viterbi_rulebased(words, train_bag = train_tagged_words):\n",
    "    state = []\n",
    "    T = list(set([pair[1] for pair in train_bag]))\n",
    "    \n",
    "    for key, word in enumerate(words):\n",
    "        #initialise list of probability column for a given observation\n",
    "        p = [] \n",
    "        p_transition =[] # for storing transition probabilities\n",
    "        for tag in T:\n",
    "            if key == 0:\n",
    "                transition_p = tags_df.loc['.', tag]\n",
    "            else:\n",
    "                transition_p = tags_df.loc[state[-1], tag]\n",
    "                \n",
    "            # compute emission and state probabilities\n",
    "            emission_p = word_given_tag(words[key], tag)[0]/word_given_tag(words[key], tag)[1]\n",
    "            state_probability = emission_p * transition_p    \n",
    "            p.append(state_probability)\n",
    "            \n",
    "            # find POS tag occurance probability\n",
    "            tag_p = [pair[1] for pair in tag_prob if pair[0]==tag ]\n",
    "            \n",
    "            # calculate the transition prob weighted by tag occurance probability.\n",
    "            transition_p = tag_p[0]*transition_p\n",
    "            p_transition.append(transition_p)\n",
    "            \n",
    "        pmax = max(p)\n",
    "        state_max = rule_based_tagger.tag([word])[0][1] \n",
    "        \n",
    "      \n",
    "        # getting state for which probability is maximum\n",
    "        if(pmax==0):\n",
    "            state_max = rule_based_tagger.tag([word])[0][1] # assign based on rule based tagger\n",
    "            \n",
    "            # if unknown word does not satisfy any rule, find the tag with maximum transition probability\n",
    "            if state_max == 'NN':\n",
    "                pmax = max(p_transition)\n",
    "                state_max = T[p_transition.index(pmax)]                 \n",
    "                \n",
    "        else:\n",
    "             if state_max != 'X':\n",
    "                # getting state for which probability is maximum\n",
    "                state_max = T[p.index(pmax)] \n",
    "        \n",
    "        state.append(state_max)\n",
    "    return list(zip(words, state))"
   ]
  },
  {
   "cell_type": "code",
   "execution_count": 45,
   "metadata": {},
   "outputs": [
    {
     "name": "stdout",
     "output_type": "stream",
     "text": [
      "Time taken in seconds:  37.37566018104553\n"
     ]
    }
   ],
   "source": [
    "# tagging the test sentences\n",
    "start = time.time()\n",
    "tagged_seq = Viterbi_rulebased(test_tagged_words)\n",
    "end = time.time()\n",
    "difference = end-start\n",
    "\n",
    "print(\"Time taken in seconds: \", difference)"
   ]
  },
  {
   "cell_type": "code",
   "execution_count": 46,
   "metadata": {},
   "outputs": [
    {
     "name": "stdout",
     "output_type": "stream",
     "text": [
      "Modified Viterbi Algorithm Accuracy:  92.54658385093168\n"
     ]
    }
   ],
   "source": [
    "# accuracy\n",
    "check = [i for i, j in zip(tagged_seq, test_run_base) if i == j] \n",
    "rulebased_viterbi_accuracy = len(check)*100/len(tagged_seq)\n",
    "print('Modified Viterbi Algorithm Accuracy: ',rulebased_viterbi_accuracy)"
   ]
  },
  {
   "cell_type": "code",
   "execution_count": 47,
   "metadata": {},
   "outputs": [
    {
     "data": {
      "text/plain": [
       "[(('continuingly', 'NOUN'), ('continuingly', 'ADV')),\n",
       " (('mining', 'VERB'), ('mining', 'NOUN')),\n",
       " (('matters', 'NOUN'), ('matters', 'VERB')),\n",
       " (('fine', 'NOUN'), ('fine', 'ADV')),\n",
       " (('plaintive', 'NOUN'), ('plaintive', 'ADJ')),\n",
       " (('high-minded', 'VERB'), ('high-minded', 'ADJ')),\n",
       " (('note', 'VERB'), ('note', 'NOUN')),\n",
       " (('reading', 'NOUN'), ('reading', 'VERB')),\n",
       " (('sticky', 'NOUN'), ('sticky', 'ADJ')),\n",
       " (('sweaty', 'NOUN'), ('sweaty', 'ADJ')),\n",
       " (('Eliminate', 'NOUN'), ('Eliminate', 'VERB')),\n",
       " (('more', 'ADV'), ('more', 'ADJ'))]"
      ]
     },
     "execution_count": 47,
     "metadata": {},
     "output_type": "execute_result"
    }
   ],
   "source": [
    "# let's check the incorrectly tagged words\n",
    "[j for i, j in enumerate(zip(tagged_seq, test_run_base)) if j[0] != j[1]]"
   ]
  },
  {
   "cell_type": "markdown",
   "metadata": {},
   "source": [
    "The following list of words have been correctly POS tagged by rule based Viterbi as compared to vanilla Viterbi Algorithm:\n",
    "\n",
    "- *T*-15: correctly tagged as X\n",
    "- directed: correctly tagged as VERB\n",
    "- hugging: correctly tagged as VERB\n",
    "- assurance: correctly tagged as NOUN\n",
    "- fingers: correctly tagged as NOUN"
   ]
  },
  {
   "cell_type": "markdown",
   "metadata": {},
   "source": [
    "#### Evaluating tagging accuracy"
   ]
  },
  {
   "cell_type": "code",
   "execution_count": 48,
   "metadata": {},
   "outputs": [],
   "source": [
    "f = open('Sample test sentences.txt')"
   ]
  },
  {
   "cell_type": "code",
   "execution_count": 49,
   "metadata": {},
   "outputs": [],
   "source": [
    "text = f.read()"
   ]
  },
  {
   "cell_type": "code",
   "execution_count": 50,
   "metadata": {},
   "outputs": [],
   "source": [
    "sample_test_sent = text.splitlines()"
   ]
  },
  {
   "cell_type": "code",
   "execution_count": 51,
   "metadata": {},
   "outputs": [],
   "source": [
    "f.close()"
   ]
  },
  {
   "cell_type": "code",
   "execution_count": 52,
   "metadata": {},
   "outputs": [
    {
     "data": {
      "text/plain": [
       "['Android is a mobile operating system developed by Google.',\n",
       " 'Android has been the best-selling OS worldwide on smartphones since 2011 and on tablets since 2013.',\n",
       " \"Google and Twitter made a deal in 2015 that gave Google access to Twitter's firehose.\",\n",
       " 'Twitter is an online news and social networking service on which users post and interact with messages known as tweets.',\n",
       " 'Before entering politics, Donald Trump was a domineering businessman and a television personality.',\n",
       " 'The 2018 FIFA World Cup is the 21st FIFA World Cup, an international football tournament contested once every four years.',\n",
       " 'This is the first World Cup to be held in Eastern Europe and the 11th time that it has been held in Europe.',\n",
       " 'Show me the cheapest round trips from Dallas to Atlanta',\n",
       " 'I would like to see flights from Denver to Philadelphia.',\n",
       " 'Show me the price of the flights leaving Atlanta at about 3 in the afternoon and arriving in San Francisco.',\n",
       " 'NASA invited social media users to experience the launch of ICESAT-2 Satellite.']"
      ]
     },
     "execution_count": 52,
     "metadata": {},
     "output_type": "execute_result"
    }
   ],
   "source": [
    "sample_test_sent"
   ]
  },
  {
   "cell_type": "code",
   "execution_count": 53,
   "metadata": {},
   "outputs": [],
   "source": [
    "# list of untagged words\n",
    "sample_test_words = [word for sent in sample_test_sent for word in sent.split()]"
   ]
  },
  {
   "cell_type": "code",
   "execution_count": 54,
   "metadata": {},
   "outputs": [
    {
     "name": "stdout",
     "output_type": "stream",
     "text": [
      "Time taken in seconds:  38.650694847106934\n"
     ]
    }
   ],
   "source": [
    "# tagging the test sentences\n",
    "start = time.time()\n",
    "sample_tagged_seq = Viterbi_Vanilla(sample_test_words)\n",
    "end = time.time()\n",
    "difference = end-start\n",
    "\n",
    "print(\"Time taken in seconds: \", difference)"
   ]
  },
  {
   "cell_type": "code",
   "execution_count": 55,
   "metadata": {},
   "outputs": [
    {
     "data": {
      "text/plain": [
       "[('Android', '.'),\n",
       " ('is', 'VERB'),\n",
       " ('a', 'DET'),\n",
       " ('mobile', 'ADJ'),\n",
       " ('operating', 'NOUN'),\n",
       " ('system', 'NOUN'),\n",
       " ('developed', 'VERB'),\n",
       " ('by', 'ADP'),\n",
       " ('Google.', '.'),\n",
       " ('Android', '.'),\n",
       " ('has', 'VERB'),\n",
       " ('been', 'VERB'),\n",
       " ('the', 'DET'),\n",
       " ('best-selling', 'ADJ'),\n",
       " ('OS', '.'),\n",
       " ('worldwide', '.'),\n",
       " ('on', 'ADP'),\n",
       " ('smartphones', '.'),\n",
       " ('since', 'ADP'),\n",
       " ('2011', '.'),\n",
       " ('and', 'CONJ'),\n",
       " ('on', 'ADP'),\n",
       " ('tablets', 'NOUN'),\n",
       " ('since', 'ADP'),\n",
       " ('2013.', '.'),\n",
       " ('Google', '.'),\n",
       " ('and', 'CONJ'),\n",
       " ('Twitter', '.'),\n",
       " ('made', 'VERB'),\n",
       " ('a', 'DET'),\n",
       " ('deal', 'NOUN'),\n",
       " ('in', 'ADP'),\n",
       " ('2015', '.'),\n",
       " ('that', 'DET'),\n",
       " ('gave', 'VERB'),\n",
       " ('Google', '.'),\n",
       " ('access', 'NOUN'),\n",
       " ('to', 'PRT'),\n",
       " (\"Twitter's\", '.'),\n",
       " ('firehose.', '.'),\n",
       " ('Twitter', '.'),\n",
       " ('is', 'VERB'),\n",
       " ('an', 'DET'),\n",
       " ('online', '.'),\n",
       " ('news', 'NOUN'),\n",
       " ('and', 'CONJ'),\n",
       " ('social', 'ADJ'),\n",
       " ('networking', 'NOUN'),\n",
       " ('service', 'NOUN'),\n",
       " ('on', 'ADP'),\n",
       " ('which', 'DET'),\n",
       " ('users', 'NOUN'),\n",
       " ('post', 'NOUN'),\n",
       " ('and', 'CONJ'),\n",
       " ('interact', '.'),\n",
       " ('with', 'ADP'),\n",
       " ('messages', '.'),\n",
       " ('known', 'VERB'),\n",
       " ('as', 'ADP'),\n",
       " ('tweets.', '.'),\n",
       " ('Before', 'ADP'),\n",
       " ('entering', 'VERB'),\n",
       " ('politics,', '.'),\n",
       " ('Donald', 'NOUN'),\n",
       " ('Trump', 'NOUN'),\n",
       " ('was', 'VERB'),\n",
       " ('a', 'DET'),\n",
       " ('domineering', '.'),\n",
       " ('businessman', 'NOUN'),\n",
       " ('and', 'CONJ'),\n",
       " ('a', 'DET'),\n",
       " ('television', 'NOUN'),\n",
       " ('personality.', '.'),\n",
       " ('The', 'DET'),\n",
       " ('2018', '.'),\n",
       " ('FIFA', '.'),\n",
       " ('World', 'NOUN'),\n",
       " ('Cup', '.'),\n",
       " ('is', 'VERB'),\n",
       " ('the', 'DET'),\n",
       " ('21st', '.'),\n",
       " ('FIFA', '.'),\n",
       " ('World', 'NOUN'),\n",
       " ('Cup,', '.'),\n",
       " ('an', 'DET'),\n",
       " ('international', 'ADJ'),\n",
       " ('football', 'NOUN'),\n",
       " ('tournament', '.'),\n",
       " ('contested', '.'),\n",
       " ('once', 'ADV'),\n",
       " ('every', 'DET'),\n",
       " ('four', 'NUM'),\n",
       " ('years.', '.'),\n",
       " ('This', 'DET'),\n",
       " ('is', 'VERB'),\n",
       " ('the', 'DET'),\n",
       " ('first', 'ADJ'),\n",
       " ('World', 'NOUN'),\n",
       " ('Cup', '.'),\n",
       " ('to', 'PRT'),\n",
       " ('be', 'VERB'),\n",
       " ('held', 'VERB'),\n",
       " ('in', 'ADP'),\n",
       " ('Eastern', 'NOUN'),\n",
       " ('Europe', 'NOUN'),\n",
       " ('and', 'CONJ'),\n",
       " ('the', 'DET'),\n",
       " ('11th', 'ADJ'),\n",
       " ('time', 'NOUN'),\n",
       " ('that', 'ADP'),\n",
       " ('it', 'PRON'),\n",
       " ('has', 'VERB'),\n",
       " ('been', 'VERB'),\n",
       " ('held', 'VERB'),\n",
       " ('in', 'ADP'),\n",
       " ('Europe.', '.'),\n",
       " ('Show', 'NOUN'),\n",
       " ('me', 'PRON'),\n",
       " ('the', 'DET'),\n",
       " ('cheapest', 'ADJ'),\n",
       " ('round', 'NOUN'),\n",
       " ('trips', '.'),\n",
       " ('from', 'ADP'),\n",
       " ('Dallas', 'NOUN'),\n",
       " ('to', 'PRT'),\n",
       " ('Atlanta', 'NOUN'),\n",
       " ('I', 'PRON'),\n",
       " ('would', 'VERB'),\n",
       " ('like', 'ADP'),\n",
       " ('to', 'PRT'),\n",
       " ('see', 'VERB'),\n",
       " ('flights', 'NOUN'),\n",
       " ('from', 'ADP'),\n",
       " ('Denver', 'NOUN'),\n",
       " ('to', 'PRT'),\n",
       " ('Philadelphia.', '.'),\n",
       " ('Show', 'NOUN'),\n",
       " ('me', 'PRON'),\n",
       " ('the', 'DET'),\n",
       " ('price', 'NOUN'),\n",
       " ('of', 'ADP'),\n",
       " ('the', 'DET'),\n",
       " ('flights', 'NOUN'),\n",
       " ('leaving', 'VERB'),\n",
       " ('Atlanta', 'NOUN'),\n",
       " ('at', 'ADP'),\n",
       " ('about', 'ADP'),\n",
       " ('3', 'NUM'),\n",
       " ('in', 'ADP'),\n",
       " ('the', 'DET'),\n",
       " ('afternoon', 'NOUN'),\n",
       " ('and', 'CONJ'),\n",
       " ('arriving', '.'),\n",
       " ('in', 'ADP'),\n",
       " ('San', 'NOUN'),\n",
       " ('Francisco.', '.'),\n",
       " ('NASA', '.'),\n",
       " ('invited', '.'),\n",
       " ('social', 'ADJ'),\n",
       " ('media', 'NOUN'),\n",
       " ('users', 'NOUN'),\n",
       " ('to', 'PRT'),\n",
       " ('experience', 'NOUN'),\n",
       " ('the', 'DET'),\n",
       " ('launch', 'NOUN'),\n",
       " ('of', 'ADP'),\n",
       " ('ICESAT-2', '.'),\n",
       " ('Satellite.', '.')]"
      ]
     },
     "execution_count": 55,
     "metadata": {},
     "output_type": "execute_result"
    }
   ],
   "source": [
    "sample_tagged_seq"
   ]
  },
  {
   "cell_type": "markdown",
   "metadata": {},
   "source": [
    "We can see that several words have been misclassified by vanilla Viterbi POS tagger, for example:\n",
    "\n",
    "Android as ADJ, \n",
    "Google as ADJ, \n",
    "OS as ADJ"
   ]
  },
  {
   "cell_type": "code",
   "execution_count": 56,
   "metadata": {},
   "outputs": [
    {
     "name": "stdout",
     "output_type": "stream",
     "text": [
      "Time taken in seconds:  39.90813326835632\n"
     ]
    }
   ],
   "source": [
    "# tagging the test sentences\n",
    "start = time.time()\n",
    "sample_tagged_seq = Viterbi_rulebased(sample_test_words)\n",
    "end = time.time()\n",
    "difference = end-start\n",
    "\n",
    "print(\"Time taken in seconds: \", difference)"
   ]
  },
  {
   "cell_type": "code",
   "execution_count": 57,
   "metadata": {},
   "outputs": [
    {
     "data": {
      "text/plain": [
       "[('Android', 'NOUN'),\n",
       " ('is', 'VERB'),\n",
       " ('a', 'DET'),\n",
       " ('mobile', 'ADJ'),\n",
       " ('operating', 'NOUN'),\n",
       " ('system', 'NOUN'),\n",
       " ('developed', 'VERB'),\n",
       " ('by', 'ADP'),\n",
       " ('Google.', 'NOUN'),\n",
       " ('Android', 'NOUN'),\n",
       " ('has', 'VERB'),\n",
       " ('been', 'VERB'),\n",
       " ('the', 'DET'),\n",
       " ('best-selling', 'ADJ'),\n",
       " ('OS', 'NOUN'),\n",
       " ('worldwide', 'NOUN'),\n",
       " ('on', 'ADP'),\n",
       " ('smartphones', 'VERB'),\n",
       " ('since', 'ADP'),\n",
       " ('2011', 'NUM'),\n",
       " ('and', 'CONJ'),\n",
       " ('on', 'ADP'),\n",
       " ('tablets', 'NOUN'),\n",
       " ('since', 'ADP'),\n",
       " ('2013.', 'NOUN'),\n",
       " ('Google', 'NOUN'),\n",
       " ('and', 'CONJ'),\n",
       " ('Twitter', 'NOUN'),\n",
       " ('made', 'VERB'),\n",
       " ('a', 'DET'),\n",
       " ('deal', 'NOUN'),\n",
       " ('in', 'ADP'),\n",
       " ('2015', 'NUM'),\n",
       " ('that', 'ADP'),\n",
       " ('gave', 'VERB'),\n",
       " ('Google', 'NOUN'),\n",
       " ('access', 'NOUN'),\n",
       " ('to', 'PRT'),\n",
       " (\"Twitter's\", 'NOUN'),\n",
       " ('firehose.', 'NOUN'),\n",
       " ('Twitter', 'NOUN'),\n",
       " ('is', 'VERB'),\n",
       " ('an', 'DET'),\n",
       " ('online', 'NOUN'),\n",
       " ('news', 'NOUN'),\n",
       " ('and', 'CONJ'),\n",
       " ('social', 'ADJ'),\n",
       " ('networking', 'NOUN'),\n",
       " ('service', 'NOUN'),\n",
       " ('on', 'ADP'),\n",
       " ('which', 'DET'),\n",
       " ('users', 'NOUN'),\n",
       " ('post', 'NOUN'),\n",
       " ('and', 'CONJ'),\n",
       " ('interact', 'NOUN'),\n",
       " ('with', 'ADP'),\n",
       " ('messages', 'VERB'),\n",
       " ('known', 'VERB'),\n",
       " ('as', 'ADP'),\n",
       " ('tweets.', 'NOUN'),\n",
       " ('Before', 'ADP'),\n",
       " ('entering', 'VERB'),\n",
       " ('politics,', 'NOUN'),\n",
       " ('Donald', 'NOUN'),\n",
       " ('Trump', 'NOUN'),\n",
       " ('was', 'VERB'),\n",
       " ('a', 'DET'),\n",
       " ('domineering', 'VERB'),\n",
       " ('businessman', 'NOUN'),\n",
       " ('and', 'CONJ'),\n",
       " ('a', 'DET'),\n",
       " ('television', 'NOUN'),\n",
       " ('personality.', 'NOUN'),\n",
       " ('The', 'DET'),\n",
       " ('2018', 'NUM'),\n",
       " ('FIFA', 'NOUN'),\n",
       " ('World', 'NOUN'),\n",
       " ('Cup', 'NOUN'),\n",
       " ('is', 'VERB'),\n",
       " ('the', 'DET'),\n",
       " ('21st', 'NOUN'),\n",
       " ('FIFA', 'NOUN'),\n",
       " ('World', 'NOUN'),\n",
       " ('Cup,', 'NOUN'),\n",
       " ('an', 'DET'),\n",
       " ('international', 'ADJ'),\n",
       " ('football', 'NOUN'),\n",
       " ('tournament', 'NOUN'),\n",
       " ('contested', 'VERB'),\n",
       " ('once', 'ADV'),\n",
       " ('every', 'DET'),\n",
       " ('four', 'NUM'),\n",
       " ('years.', 'NOUN'),\n",
       " ('This', 'DET'),\n",
       " ('is', 'VERB'),\n",
       " ('the', 'DET'),\n",
       " ('first', 'ADJ'),\n",
       " ('World', 'NOUN'),\n",
       " ('Cup', 'NOUN'),\n",
       " ('to', 'PRT'),\n",
       " ('be', 'VERB'),\n",
       " ('held', 'VERB'),\n",
       " ('in', 'ADP'),\n",
       " ('Eastern', 'NOUN'),\n",
       " ('Europe', 'NOUN'),\n",
       " ('and', 'CONJ'),\n",
       " ('the', 'DET'),\n",
       " ('11th', 'ADJ'),\n",
       " ('time', 'NOUN'),\n",
       " ('that', 'ADP'),\n",
       " ('it', 'PRON'),\n",
       " ('has', 'VERB'),\n",
       " ('been', 'VERB'),\n",
       " ('held', 'VERB'),\n",
       " ('in', 'ADP'),\n",
       " ('Europe.', 'NOUN'),\n",
       " ('Show', 'NOUN'),\n",
       " ('me', 'PRON'),\n",
       " ('the', 'DET'),\n",
       " ('cheapest', 'ADJ'),\n",
       " ('round', 'NOUN'),\n",
       " ('trips', 'NOUN'),\n",
       " ('from', 'ADP'),\n",
       " ('Dallas', 'NOUN'),\n",
       " ('to', 'PRT'),\n",
       " ('Atlanta', 'NOUN'),\n",
       " ('I', 'PRON'),\n",
       " ('would', 'VERB'),\n",
       " ('like', 'ADP'),\n",
       " ('to', 'PRT'),\n",
       " ('see', 'VERB'),\n",
       " ('flights', 'NOUN'),\n",
       " ('from', 'ADP'),\n",
       " ('Denver', 'NOUN'),\n",
       " ('to', 'PRT'),\n",
       " ('Philadelphia.', 'NOUN'),\n",
       " ('Show', 'NOUN'),\n",
       " ('me', 'PRON'),\n",
       " ('the', 'DET'),\n",
       " ('price', 'NOUN'),\n",
       " ('of', 'ADP'),\n",
       " ('the', 'DET'),\n",
       " ('flights', 'NOUN'),\n",
       " ('leaving', 'VERB'),\n",
       " ('Atlanta', 'NOUN'),\n",
       " ('at', 'ADP'),\n",
       " ('about', 'ADP'),\n",
       " ('3', 'NUM'),\n",
       " ('in', 'ADP'),\n",
       " ('the', 'DET'),\n",
       " ('afternoon', 'NOUN'),\n",
       " ('and', 'CONJ'),\n",
       " ('arriving', 'VERB'),\n",
       " ('in', 'ADP'),\n",
       " ('San', 'NOUN'),\n",
       " ('Francisco.', 'NOUN'),\n",
       " ('NASA', 'NOUN'),\n",
       " ('invited', 'VERB'),\n",
       " ('social', 'ADJ'),\n",
       " ('media', 'NOUN'),\n",
       " ('users', 'NOUN'),\n",
       " ('to', 'PRT'),\n",
       " ('experience', 'NOUN'),\n",
       " ('the', 'DET'),\n",
       " ('launch', 'NOUN'),\n",
       " ('of', 'ADP'),\n",
       " ('ICESAT-2', 'NOUN'),\n",
       " ('Satellite.', 'NOUN')]"
      ]
     },
     "execution_count": 57,
     "metadata": {},
     "output_type": "execute_result"
    }
   ],
   "source": [
    "sample_tagged_seq"
   ]
  },
  {
   "cell_type": "markdown",
   "metadata": {},
   "source": [
    "All these cases were correctly POS tagged by Viterbi_2:\n",
    "\n",
    "- Android as NOUN\n",
    "- Google as NOUN\n",
    "- OS as NOUN"
   ]
  },
  {
   "cell_type": "markdown",
   "metadata": {},
   "source": [
    "### Compare the tagging accuracies of the modifications with the vanilla Viterbi algorithm"
   ]
  },
  {
   "cell_type": "code",
   "execution_count": 58,
   "metadata": {},
   "outputs": [
    {
     "name": "stdout",
     "output_type": "stream",
     "text": [
      "Vannila Viterbi Accuracy: 90.06211180124224\n",
      "Modified Viterbi Accuracy: 93.16770186335404\n",
      "Rule Based Viterbi Accuracy: 92.54658385093168\n"
     ]
    }
   ],
   "source": [
    "print(\"Vannila Viterbi Accuracy: \"+ str(vanilla_viterbi_accuracy))\n",
    "print(\"Modified Viterbi Accuracy: \"+ str(modified_viterbi_accuracy))\n",
    "print(\"Rule Based Viterbi Accuracy: \"+ str(rulebased_viterbi_accuracy))"
   ]
  },
  {
   "cell_type": "markdown",
   "metadata": {},
   "source": [
    "### List down cases which were incorrectly tagged by original POS tagger and got corrected by your modifications"
   ]
  },
  {
   "cell_type": "markdown",
   "metadata": {},
   "source": [
    "The following list of words have been correctly POS tagged by modified Viterbi as compared to vanilla Viterbi Algorithm:\n",
    "\n",
    "- directed: correctly tagged as VERB\n",
    "- hugging: correctly tagged as VERB\n",
    "- *T*-15: correctly tagged as X\n",
    "- fingers: correctly tagged as NOUN\n",
    "- assurance: correctly tagged as NOUN\n",
    "- mining: correctly tagged as NOUN\n",
    "- Eliminate: correctly tagged as VERB"
   ]
  },
  {
   "cell_type": "markdown",
   "metadata": {},
   "source": [
    "Other than above list following tags got corrected on sample data:\n",
    "- Words like 'Twitter', 'Android', 'Google' are properly tagged with 'NOUN' in modified Viterbi Algorithm\n",
    "- Words like 'NASA', 'FIFA' are correctly tagged as 'NOUN' (All Caps of a word generally will be an abbrevation and it is a noun)"
   ]
  },
  {
   "cell_type": "code",
   "execution_count": null,
   "metadata": {},
   "outputs": [],
   "source": []
  }
 ],
 "metadata": {
  "kernelspec": {
   "display_name": "Python 3",
   "language": "python",
   "name": "python3"
  },
  "language_info": {
   "codemirror_mode": {
    "name": "ipython",
    "version": 3
   },
   "file_extension": ".py",
   "mimetype": "text/x-python",
   "name": "python",
   "nbconvert_exporter": "python",
   "pygments_lexer": "ipython3",
   "version": "3.7.6"
  }
 },
 "nbformat": 4,
 "nbformat_minor": 2
}
